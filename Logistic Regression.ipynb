{
 "metadata": {
  "name": "",
  "signature": "sha256:6ef59957214c00f0fd76603751e5a3f9fe5b82d726c83f6aa95d110e7cc2b536"
 },
 "nbformat": 3,
 "nbformat_minor": 0,
 "worksheets": [
  {
   "cells": [
    {
     "cell_type": "heading",
     "level": 1,
     "metadata": {},
     "source": [
      "The Principle Behind Logistic Regression"
     ]
    },
    {
     "cell_type": "heading",
     "level": 2,
     "metadata": {},
     "source": [
      "Introduction"
     ]
    },
    {
     "cell_type": "markdown",
     "metadata": {},
     "source": [
      "What is Logistic Regression? First consider an example from linear regression: predict the life expectancy of a person based on their current age, where they live, their habits and so on. In this case the explained variable, life expectency is practically continuous. It takes on a large set of possible value.\n",
      "\n",
      "In logistic regression the possible values are a binary set. Will a person still be alive in 10 years? The explanatory variables could be the same as above but the outcome is yes or no, 1 or 0.\n",
      "\n",
      "The hypothesis of linear regression, i.e. $y = \\theta_0 + \\theta_1.X_1 + \\theta_2.X_2$, or $\\theta^TX$, is not suitable because it could give values greater than 1 as it depicts a continuous line. Interestingly, the same structure can be used but it must be transformed into a function that lies between 0 and 1. This is done using a Sigmoid function $1/(1+e^{Z})$. The hypothesis of logistic regression is $y = 1/(1+e^{Z})$ where $z = \\theta^TX$\n",
      "\n",
      "This notebook will show the meaning behind this"
     ]
    },
    {
     "cell_type": "heading",
     "level": 4,
     "metadata": {},
     "source": [
      "Firing up"
     ]
    },
    {
     "cell_type": "code",
     "collapsed": false,
     "input": [
      "import pandas as pd\n",
      "import numpy as np\n",
      "import matplotlib.pyplot as plt\n",
      "import math"
     ],
     "language": "python",
     "metadata": {},
     "outputs": [],
     "prompt_number": 2
    },
    {
     "cell_type": "code",
     "collapsed": false,
     "input": [
      "pylab inline"
     ],
     "language": "python",
     "metadata": {},
     "outputs": [
      {
       "output_type": "stream",
       "stream": "stdout",
       "text": [
        "Populating the interactive namespace from numpy and matplotlib\n"
       ]
      }
     ],
     "prompt_number": 3
    },
    {
     "cell_type": "heading",
     "level": 4,
     "metadata": {},
     "source": [
      "Define a sigmoid function"
     ]
    },
    {
     "cell_type": "code",
     "collapsed": false,
     "input": [
      "def sigmoid(z):\n",
      "  return 1 / (1 + math.exp(-z))"
     ],
     "language": "python",
     "metadata": {},
     "outputs": [],
     "prompt_number": 4
    },
    {
     "cell_type": "markdown",
     "metadata": {},
     "source": [
      "Yes, it's really as easy as this to turn an array into a sigmoid. Jump ahead to the chart further down that looks like an S and then come back here. What can be seen and is true for any sigmoid function is that the sigmoid will be split between 0 and 0.5 or 0.5 and 1 around the point where z = 0 (i.e. a backward s or a forward s, but always centered at 0). \n",
      "\n",
      "This is useful. Our prediction for y will be represented by the sigmoid as it is always conveniently between 0 and 1. One more caveat, it can really only be 0 or 1, so if the sigmoid is a foward 's' and greater than 0.5 we will say y is 1 and if it is less than 0.5 we say y is 0. The solution to the regression is to define theta so that Z equals 0 where we believe y goes from 'probably 0' to 'probably 1'.\n",
      "\n",
      "Think about this in terms of x which is more meaningful. $z = \\theta^TX$. If our hypothesis is that $z = 0 = 5 - X_1$ (i.e. $\\theta_0 = -5$ and $\\theta_1 = 1$), then we are saying $X_1 = 5$ where we believe y goes from 'probably 0' to 'probably 1'\n",
      "\n",
      "(I don't discuss how we solve for that, which can be done in different ways. That involves minimising a cost function which more or less penalises situations where we predict y poorly. In this notebook we solve the regression visually.)\n",
      "\n",
      "Let's see this."
     ]
    },
    {
     "cell_type": "heading",
     "level": 2,
     "metadata": {},
     "source": [
      "Will You Still Be Alive in 10 Years?"
     ]
    },
    {
     "cell_type": "markdown",
     "metadata": {},
     "source": [
      "We predict this question using one explanatory variable: **How many red traffic lights do you run per year?**"
     ]
    },
    {
     "cell_type": "heading",
     "level": 4,
     "metadata": {},
     "source": [
      "Create data, Make a prediction for $y$ denoted by $\\hat{y}$"
     ]
    },
    {
     "cell_type": "code",
     "collapsed": false,
     "input": [
      "data = pd.DataFrame({'x':[0.0,1,2,3,4,5,6,7,8,9,10],\n",
      "                     'y':[1.0,1,1,1,0,1,0,0,0,0,0]})"
     ],
     "language": "python",
     "metadata": {},
     "outputs": [],
     "prompt_number": 5
    },
    {
     "cell_type": "code",
     "collapsed": false,
     "input": [
      "data.plot(kind='scatter', x='x', y='y')"
     ],
     "language": "python",
     "metadata": {},
     "outputs": [
      {
       "metadata": {},
       "output_type": "pyout",
       "prompt_number": 6,
       "text": [
        "<matplotlib.axes._subplots.AxesSubplot at 0xbf7e0f0>"
       ]
      },
      {
       "metadata": {},
       "output_type": "display_data",
       "png": "[encoded data removed]",
       "text": [
        "<matplotlib.figure.Figure at 0xbf5cc50>"
       ]
      }
     ],
     "prompt_number": 6
    },
    {
     "cell_type": "markdown",
     "metadata": {},
     "source": [
      "Based on this data it seems that x above 5 is more or less where y goes from probably 1 to probably 0. Therefore $z = 5 - X_1$ is a good way to define z so that it is 0 in the correct place (i.e. a good hypothesis is that $\\theta_0 = 5$ and $\\theta_1 = -1$).\n",
      "\n",
      "In order to predict y, Z must be calculated and then a sigmoid must be applied on that and finally we set $\\hat{y}$ equal to 1 if sigmoid is greater 0.5 and 0 otherwise."
     ]
    },
    {
     "cell_type": "code",
     "collapsed": false,
     "input": [
      "data['z'] = 5 - data.x"
     ],
     "language": "python",
     "metadata": {},
     "outputs": [],
     "prompt_number": 7
    },
    {
     "cell_type": "code",
     "collapsed": false,
     "input": [
      "data['sigmoid'] = data['z'].apply(sigmoid)"
     ],
     "language": "python",
     "metadata": {},
     "outputs": [],
     "prompt_number": 8
    },
    {
     "cell_type": "code",
     "collapsed": false,
     "input": [
      "pd.DataFrame(data['sigmoid']).set_index(data['z']).plot()"
     ],
     "language": "python",
     "metadata": {},
     "outputs": [
      {
       "metadata": {},
       "output_type": "pyout",
       "prompt_number": 9,
       "text": [
        "<matplotlib.axes._subplots.AxesSubplot at 0xc0e23c8>"
       ]
      },
      {
       "metadata": {},
       "output_type": "display_data",
       "png": "[encoded data removed]",
       "text": [
        "<matplotlib.figure.Figure at 0xc0ee390>"
       ]
      }
     ],
     "prompt_number": 9
    },
    {
     "cell_type": "code",
     "collapsed": false,
     "input": [
      "data['yhat'] = 0\n",
      "data.ix[data['sigmoid']>=0.5,'yhat'] = 1"
     ],
     "language": "python",
     "metadata": {},
     "outputs": [],
     "prompt_number": 10
    },
    {
     "cell_type": "heading",
     "level": 4,
     "metadata": {},
     "source": [
      "See the results"
     ]
    },
    {
     "cell_type": "code",
     "collapsed": false,
     "input": [
      "data"
     ],
     "language": "python",
     "metadata": {},
     "outputs": [
      {
       "html": [
        "<div style=\"max-height:1000px;max-width:1500px;overflow:auto;\">\n",
        "<table border=\"1\" class=\"dataframe\">\n",
        "  <thead>\n",
        "    <tr style=\"text-align: right;\">\n",
        "      <th></th>\n",
        "      <th>x</th>\n",
        "      <th>y</th>\n",
        "      <th>z</th>\n",
        "      <th>sigmoid</th>\n",
        "      <th>yhat</th>\n",
        "    </tr>\n",
        "  </thead>\n",
        "  <tbody>\n",
        "    <tr>\n",
        "      <th>0 </th>\n",
        "      <td>  0</td>\n",
        "      <td> 1</td>\n",
        "      <td> 5</td>\n",
        "      <td> 0.993307</td>\n",
        "      <td> 1</td>\n",
        "    </tr>\n",
        "    <tr>\n",
        "      <th>1 </th>\n",
        "      <td>  1</td>\n",
        "      <td> 1</td>\n",
        "      <td> 4</td>\n",
        "      <td> 0.982014</td>\n",
        "      <td> 1</td>\n",
        "    </tr>\n",
        "    <tr>\n",
        "      <th>2 </th>\n",
        "      <td>  2</td>\n",
        "      <td> 1</td>\n",
        "      <td> 3</td>\n",
        "      <td> 0.952574</td>\n",
        "      <td> 1</td>\n",
        "    </tr>\n",
        "    <tr>\n",
        "      <th>3 </th>\n",
        "      <td>  3</td>\n",
        "      <td> 1</td>\n",
        "      <td> 2</td>\n",
        "      <td> 0.880797</td>\n",
        "      <td> 1</td>\n",
        "    </tr>\n",
        "    <tr>\n",
        "      <th>4 </th>\n",
        "      <td>  4</td>\n",
        "      <td> 0</td>\n",
        "      <td> 1</td>\n",
        "      <td> 0.731059</td>\n",
        "      <td> 1</td>\n",
        "    </tr>\n",
        "    <tr>\n",
        "      <th>5 </th>\n",
        "      <td>  5</td>\n",
        "      <td> 1</td>\n",
        "      <td> 0</td>\n",
        "      <td> 0.500000</td>\n",
        "      <td> 1</td>\n",
        "    </tr>\n",
        "    <tr>\n",
        "      <th>6 </th>\n",
        "      <td>  6</td>\n",
        "      <td> 0</td>\n",
        "      <td>-1</td>\n",
        "      <td> 0.268941</td>\n",
        "      <td> 0</td>\n",
        "    </tr>\n",
        "    <tr>\n",
        "      <th>7 </th>\n",
        "      <td>  7</td>\n",
        "      <td> 0</td>\n",
        "      <td>-2</td>\n",
        "      <td> 0.119203</td>\n",
        "      <td> 0</td>\n",
        "    </tr>\n",
        "    <tr>\n",
        "      <th>8 </th>\n",
        "      <td>  8</td>\n",
        "      <td> 0</td>\n",
        "      <td>-3</td>\n",
        "      <td> 0.047426</td>\n",
        "      <td> 0</td>\n",
        "    </tr>\n",
        "    <tr>\n",
        "      <th>9 </th>\n",
        "      <td>  9</td>\n",
        "      <td> 0</td>\n",
        "      <td>-4</td>\n",
        "      <td> 0.017986</td>\n",
        "      <td> 0</td>\n",
        "    </tr>\n",
        "    <tr>\n",
        "      <th>10</th>\n",
        "      <td> 10</td>\n",
        "      <td> 0</td>\n",
        "      <td>-5</td>\n",
        "      <td> 0.006693</td>\n",
        "      <td> 0</td>\n",
        "    </tr>\n",
        "  </tbody>\n",
        "</table>\n",
        "</div>"
       ],
       "metadata": {},
       "output_type": "pyout",
       "prompt_number": 11,
       "text": [
        "     x  y  z   sigmoid  yhat\n",
        "0    0  1  5  0.993307     1\n",
        "1    1  1  4  0.982014     1\n",
        "2    2  1  3  0.952574     1\n",
        "3    3  1  2  0.880797     1\n",
        "4    4  0  1  0.731059     1\n",
        "5    5  1  0  0.500000     1\n",
        "6    6  0 -1  0.268941     0\n",
        "7    7  0 -2  0.119203     0\n",
        "8    8  0 -3  0.047426     0\n",
        "9    9  0 -4  0.017986     0\n",
        "10  10  0 -5  0.006693     0"
       ]
      }
     ],
     "prompt_number": 11
    },
    {
     "cell_type": "markdown",
     "metadata": {},
     "source": [
      "The data shows that we believe y should be 1, yes you will be alive, when X <=5 which is how we have defined it. The chart below shows the predicted y in red and the actual y underneath it in blue. Therefore where you see the blue dots, we predicted y incorrectly. Between 4 and 5 red lights the actual data is unclear like all real life relationships are.\n",
      "\n",
      "In fact, there wasn't a better solution that we could have found in this set up because in the training data there is no clear dividing line based on x around which y is always 1 or 0.\n",
      "\n",
      "Based on the data it appears that if you jump less than 4 red lights you're quite likely to live for another 10 years and if you jump 6 or more you are very likely to not.\n",
      "\n",
      "Although it seems like logistic regression has a hard 'x threshold' level, here at 5, that's only because we used one $x^1$ variable as the predictor. By adding $X^2$, $X^3$ or $X^2X^3$ variables in the regression we could force the y vs x relationship to present more interesting shapes but we would lose the ability to visualise the point intuitively with anything more than 2 dimensions (y, x)."
     ]
    },
    {
     "cell_type": "code",
     "collapsed": false,
     "input": [
      "plt.scatter(data.x, data.y, label='Actual y', c='blue')\n",
      "plt.scatter(data.x, data.yhat, label='Predicted y', c='red')\n",
      "plt.plot(data.sigmoid)\n",
      "plt.plot(np.array([0.5 for x in range(11)]))\n",
      "plt.xlabel('Red Lights Run Per Year')\n",
      "plt.ylabel('Will You Still Be Alive in 10 Years')\n",
      "plt.legend()\n",
      "plt.show()"
     ],
     "language": "python",
     "metadata": {},
     "outputs": [
      {
       "metadata": {},
       "output_type": "display_data",
       "png": "[encoded data removed]",
       "text": [
        "<matplotlib.figure.Figure at 0xc6f5f28>"
       ]
      }
     ],
     "prompt_number": 13
    },
    {
     "cell_type": "heading",
     "level": 3,
     "metadata": {},
     "source": [
      "So that's what I wanted to say about logistic regression."
     ]
    }
   ],
   "metadata": {}
  }
 ]
}