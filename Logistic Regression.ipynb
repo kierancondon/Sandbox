{
 "metadata": {
  "name": "",
  "signature": "sha256:bf78bc3ca26fa12e1932b7ec98e485086f3c54764e09520e50c5d0fe88c15e46"
 },
 "nbformat": 3,
 "nbformat_minor": 0,
 "worksheets": [
  {
   "cells": [
    {
     "cell_type": "heading",
     "level": 1,
     "metadata": {},
     "source": [
      "The Principle Behind Logistic Regression"
     ]
    },
    {
     "cell_type": "heading",
     "level": 2,
     "metadata": {},
     "source": [
      "Introduction"
     ]
    },
    {
     "cell_type": "markdown",
     "metadata": {},
     "source": [
      "What is Logistic Regression? First consider an example from linear regression: predict the life expectancy of a person based on their current age, where they live, their habits and so on. In this case the explained variable, life expectency is practically continuous. It takes on a large set of possible value.\n",
      "\n",
      "In logistic regression the possible values are a binary set. Will a person still be alive in 10 years? The explanatory variables could be the same as above but the outcome is yes or no, 1 or 0.\n",
      "\n",
      "The hypothesis of linear regression, i.e. $\\hat{y} = \\theta_0 + \\theta_1.X_1 + \\theta_2.X_2$, or $\\theta^TX$, is not suitable because it could give values greater than 1 as it depicts a continuous line. Interestingly, the same structure can be used but it must be transformed into a function that lies between 0 and 1. This is done using a Sigmoid function $1/(1+e^{Z})$. The hypothesis of logistic regression is $hypothesis = 1/(1+e^{Z})$ where $z = \\theta^TX$. We say the $\\hat{y}$ = 1 when the hypothesis is greater than 0.5 and $\\hat{y}$ = 0 when the hypothesis is less than 0.5\n",
      "\n",
      "This notebook will show the meaning behind this"
     ]
    },
    {
     "cell_type": "heading",
     "level": 4,
     "metadata": {},
     "source": [
      "Firing up"
     ]
    },
    {
     "cell_type": "code",
     "collapsed": false,
     "input": [
      "import pandas as pd\n",
      "import numpy as np\n",
      "import matplotlib.pyplot as plt\n",
      "import math"
     ],
     "language": "python",
     "metadata": {},
     "outputs": [],
     "prompt_number": 1
    },
    {
     "cell_type": "code",
     "collapsed": false,
     "input": [
      "pylab inline"
     ],
     "language": "python",
     "metadata": {},
     "outputs": [
      {
       "output_type": "stream",
       "stream": "stdout",
       "text": [
        "Populating the interactive namespace from numpy and matplotlib\n"
       ]
      }
     ],
     "prompt_number": 2
    },
    {
     "cell_type": "heading",
     "level": 4,
     "metadata": {},
     "source": [
      "Define a sigmoid function"
     ]
    },
    {
     "cell_type": "code",
     "collapsed": false,
     "input": [
      "def sigmoid(z):\n",
      "  return 1 / (1 + math.exp(-z))"
     ],
     "language": "python",
     "metadata": {},
     "outputs": [],
     "prompt_number": 3
    },
    {
     "cell_type": "markdown",
     "metadata": {},
     "source": [
      "Yes, it's really as easy as this to turn an array into a sigmoid. It looks like an S, and it equals 0.5 when z equals 0."
     ]
    },
    {
     "cell_type": "code",
     "collapsed": false,
     "input": [
      "test = pd.Series(np.linspace(-5,5,11)).apply(sigmoid)\n",
      "test.index = np.linspace(-5,5,11)\n",
      "test.plot()"
     ],
     "language": "python",
     "metadata": {},
     "outputs": [
      {
       "metadata": {},
       "output_type": "pyout",
       "prompt_number": 4,
       "text": [
        "<matplotlib.axes._subplots.AxesSubplot at 0xc260860>"
       ]
      },
      {
       "metadata": {},
       "output_type": "display_data",
       "png": "[encoded data removed]",
       "text": [
        "<matplotlib.figure.Figure at 0xc260240>"
       ]
      }
     ],
     "prompt_number": 4
    },
    {
     "cell_type": "markdown",
     "metadata": {},
     "source": [
      "This is useful. Our prediction for y can be represented by the sigmoid as it is always conveniently between 0 and 1. As the prediction for y must be either 0 or 1 we will say y is 0 if the sigmoid is less than 0.5 and we will say it is 1 if the sigmoid is greater than 0.5.\n",
      "\n",
      "The purpose of a logistic regression is to define theta so that Z equals 0, i.e. the sigmoid equals 0.5, where we believe y goes from 'probably 0' to 'probably 1'.\n",
      "\n",
      "(I won't discuss how we solve for that, which can be done in different ways. That involves minimising a cost function which penalises situations where we predict y poorly. In this notebook we solve the regression visually.)\n",
      "\n",
      "Let's see this."
     ]
    },
    {
     "cell_type": "heading",
     "level": 2,
     "metadata": {},
     "source": [
      "Will You Still Be Alive in 10 Years?"
     ]
    },
    {
     "cell_type": "markdown",
     "metadata": {},
     "source": [
      "We predict this question using one explanatory variable: **How many red traffic lights do you run per year?**"
     ]
    },
    {
     "cell_type": "heading",
     "level": 4,
     "metadata": {},
     "source": [
      "Create data, Make a prediction for $y$ denoted by $\\hat{y}$"
     ]
    },
    {
     "cell_type": "code",
     "collapsed": false,
     "input": [
      "data = pd.DataFrame({'x':[0.0,1,2,3,4,5,6,7,8,9,10],\n",
      "                     'y':[1.0,1,1,1,0,1,0,0,0,0,0]})"
     ],
     "language": "python",
     "metadata": {},
     "outputs": [],
     "prompt_number": 5
    },
    {
     "cell_type": "code",
     "collapsed": false,
     "input": [
      "data.plot(kind='scatter', x='x', y='y')"
     ],
     "language": "python",
     "metadata": {},
     "outputs": [
      {
       "metadata": {},
       "output_type": "pyout",
       "prompt_number": 6,
       "text": [
        "<matplotlib.axes._subplots.AxesSubplot at 0xc2e0390>"
       ]
      },
      {
       "metadata": {},
       "output_type": "display_data",
       "png": "[encoded data removed]",
       "text": [
        "<matplotlib.figure.Figure at 0xc4fec50>"
       ]
      }
     ],
     "prompt_number": 6
    },
    {
     "cell_type": "markdown",
     "metadata": {},
     "source": [
      "The goal is to predict when y equals 0 or 1 based on information given by x. In this data it seems that x above 5 is more or less where y goes from probably 1 to probably 0. Let's assume for now that that is the correct solution to this problem.\n",
      "\n",
      "How would we get to this result using a sigmoid? We need to define an equation for z, a function of x, so that z = 0 where X = 5. We also need z to be positive when X is less than 5 and we need it to be negative when x is greater than 5. Why is that important? It is so that the sigmoid applied on z will be **greater** than 0.5 when x is less than 5 and it will be **less** than 0.5 when it x is greater than 5. Therefore predicted y equals 1 when x is less than 5 and 0 when x is greater than 5. It leads to the correct prediction for y and not the wrong way around.\n",
      "\n",
      "A very simple function for z(x) leads to this result: $z = 5 - X_1$ is a good way to define z so that it is 0 in the correct place, and positive / negative in the correct way too (i.e. a good hypothesis is that $\\theta_0 = 5$ and $\\theta_1 = -1$).\n",
      "\n",
      "We could have said $z = -5 + X_1$ too and this would also have made z equal to 0 when x = 5. Why would this be a bad solution? It would not be positive / negative in the correct way and would predict y = 0 when it actually equals 1 and vice versa."
     ]
    },
    {
     "cell_type": "heading",
     "level": 4,
     "metadata": {},
     "source": [
      "Why did we go to the trouble of using a sigmoid? "
     ]
    },
    {
     "cell_type": "markdown",
     "metadata": {},
     "source": [
      "In most situations we cannot say \"y = 1 below x = 5 and vice versa\" without knowing that this was the best result. We couldn't test for that against other solutions as elegantly as can be done with a sigmoid because that description would not be a differentiable function, it would be discontinuous at x = 5. The sigmoid function is a continuous and differentiable function between 0 and 1. The differentiable nature of the sigmoid is what allows the definition of a cost function that is 'convex' and can be minimised non-iteratively (and iteratively) with a unique result. It allows a 'closed form', 'best fit' solution.\n",
      "\n",
      "I agree I have not demonstrated that optimisation process here but I hope I have made it clear what the purpose of that process is."
     ]
    },
    {
     "cell_type": "heading",
     "level": 4,
     "metadata": {},
     "source": [
      "Time to chart this result"
     ]
    },
    {
     "cell_type": "code",
     "collapsed": false,
     "input": [
      "data['z'] = 5 - data.x\n",
      "data['sigmoid'] = data['z'].apply(sigmoid)\n",
      "pd.DataFrame(data['sigmoid']).set_index(data['z']).plot()"
     ],
     "language": "python",
     "metadata": {},
     "outputs": [
      {
       "ename": "NameError",
       "evalue": "name 'data' is not defined",
       "output_type": "pyerr",
       "traceback": [
        "\u001b[1;31m---------------------------------------------------------------------------\u001b[0m\n\u001b[1;31mNameError\u001b[0m                                 Traceback (most recent call last)",
        "\u001b[1;32m<ipython-input-1-05810d1b2eeb>\u001b[0m in \u001b[0;36m<module>\u001b[1;34m()\u001b[0m\n\u001b[1;32m----> 1\u001b[1;33m \u001b[0mdata\u001b[0m\u001b[1;33m[\u001b[0m\u001b[1;34m'z'\u001b[0m\u001b[1;33m]\u001b[0m \u001b[1;33m=\u001b[0m \u001b[1;36m5\u001b[0m \u001b[1;33m-\u001b[0m \u001b[0mdata\u001b[0m\u001b[1;33m.\u001b[0m\u001b[0mx\u001b[0m\u001b[1;33m\u001b[0m\u001b[0m\n\u001b[0m\u001b[0;32m      2\u001b[0m \u001b[0mdata\u001b[0m\u001b[1;33m[\u001b[0m\u001b[1;34m'sigmoid'\u001b[0m\u001b[1;33m]\u001b[0m \u001b[1;33m=\u001b[0m \u001b[0mdata\u001b[0m\u001b[1;33m[\u001b[0m\u001b[1;34m'z'\u001b[0m\u001b[1;33m]\u001b[0m\u001b[1;33m.\u001b[0m\u001b[0mapply\u001b[0m\u001b[1;33m(\u001b[0m\u001b[0msigmoid\u001b[0m\u001b[1;33m)\u001b[0m\u001b[1;33m\u001b[0m\u001b[0m\n\u001b[0;32m      3\u001b[0m \u001b[0mpd\u001b[0m\u001b[1;33m.\u001b[0m\u001b[0mDataFrame\u001b[0m\u001b[1;33m(\u001b[0m\u001b[0mdata\u001b[0m\u001b[1;33m[\u001b[0m\u001b[1;34m'sigmoid'\u001b[0m\u001b[1;33m]\u001b[0m\u001b[1;33m)\u001b[0m\u001b[1;33m.\u001b[0m\u001b[0mset_index\u001b[0m\u001b[1;33m(\u001b[0m\u001b[0mdata\u001b[0m\u001b[1;33m[\u001b[0m\u001b[1;34m'z'\u001b[0m\u001b[1;33m]\u001b[0m\u001b[1;33m)\u001b[0m\u001b[1;33m.\u001b[0m\u001b[0mplot\u001b[0m\u001b[1;33m(\u001b[0m\u001b[1;33m)\u001b[0m\u001b[1;33m\u001b[0m\u001b[0m\n",
        "\u001b[1;31mNameError\u001b[0m: name 'data' is not defined"
       ]
      }
     ],
     "prompt_number": 1
    },
    {
     "cell_type": "markdown",
     "metadata": {},
     "source": [
      "The sigmoid looks backwards but actually the z axis is what is backwards. The chart looks like that because we arranged the data based on x which is deliberately inverted compared to z to produce y = 1 and y = 0 below / above x = 5 respectively.\n",
      "\n",
      "**Finally, y can be derived from the sigmoid:**"
     ]
    },
    {
     "cell_type": "code",
     "collapsed": false,
     "input": [
      "data['yhat'] = 0\n",
      "data.ix[data['sigmoid']>=0.5,'yhat'] = 1"
     ],
     "language": "python",
     "metadata": {},
     "outputs": [
      {
       "ename": "NameError",
       "evalue": "name 'data' is not defined",
       "output_type": "pyerr",
       "traceback": [
        "\u001b[1;31m---------------------------------------------------------------------------\u001b[0m\n\u001b[1;31mNameError\u001b[0m                                 Traceback (most recent call last)",
        "\u001b[1;32m<ipython-input-2-018775c5dc10>\u001b[0m in \u001b[0;36m<module>\u001b[1;34m()\u001b[0m\n\u001b[1;32m----> 1\u001b[1;33m \u001b[0mdata\u001b[0m\u001b[1;33m[\u001b[0m\u001b[1;34m'yhat'\u001b[0m\u001b[1;33m]\u001b[0m \u001b[1;33m=\u001b[0m \u001b[1;36m0\u001b[0m\u001b[1;33m\u001b[0m\u001b[0m\n\u001b[0m\u001b[0;32m      2\u001b[0m \u001b[0mdata\u001b[0m\u001b[1;33m.\u001b[0m\u001b[0mix\u001b[0m\u001b[1;33m[\u001b[0m\u001b[0mdata\u001b[0m\u001b[1;33m[\u001b[0m\u001b[1;34m'sigmoid'\u001b[0m\u001b[1;33m]\u001b[0m\u001b[1;33m>=\u001b[0m\u001b[1;36m0.5\u001b[0m\u001b[1;33m,\u001b[0m\u001b[1;34m'yhat'\u001b[0m\u001b[1;33m]\u001b[0m \u001b[1;33m=\u001b[0m \u001b[1;36m1\u001b[0m\u001b[1;33m\u001b[0m\u001b[0m\n",
        "\u001b[1;31mNameError\u001b[0m: name 'data' is not defined"
       ]
      }
     ],
     "prompt_number": 2
    },
    {
     "cell_type": "heading",
     "level": 4,
     "metadata": {},
     "source": [
      "See the results"
     ]
    },
    {
     "cell_type": "code",
     "collapsed": false,
     "input": [
      "data"
     ],
     "language": "python",
     "metadata": {},
     "outputs": [
      {
       "html": [
        "<div style=\"max-height:1000px;max-width:1500px;overflow:auto;\">\n",
        "<table border=\"1\" class=\"dataframe\">\n",
        "  <thead>\n",
        "    <tr style=\"text-align: right;\">\n",
        "      <th></th>\n",
        "      <th>x</th>\n",
        "      <th>y</th>\n",
        "      <th>z</th>\n",
        "      <th>sigmoid</th>\n",
        "      <th>yhat</th>\n",
        "    </tr>\n",
        "  </thead>\n",
        "  <tbody>\n",
        "    <tr>\n",
        "      <th>0 </th>\n",
        "      <td>  0</td>\n",
        "      <td> 1</td>\n",
        "      <td> 5</td>\n",
        "      <td> 0.993307</td>\n",
        "      <td> 1</td>\n",
        "    </tr>\n",
        "    <tr>\n",
        "      <th>1 </th>\n",
        "      <td>  1</td>\n",
        "      <td> 1</td>\n",
        "      <td> 4</td>\n",
        "      <td> 0.982014</td>\n",
        "      <td> 1</td>\n",
        "    </tr>\n",
        "    <tr>\n",
        "      <th>2 </th>\n",
        "      <td>  2</td>\n",
        "      <td> 1</td>\n",
        "      <td> 3</td>\n",
        "      <td> 0.952574</td>\n",
        "      <td> 1</td>\n",
        "    </tr>\n",
        "    <tr>\n",
        "      <th>3 </th>\n",
        "      <td>  3</td>\n",
        "      <td> 1</td>\n",
        "      <td> 2</td>\n",
        "      <td> 0.880797</td>\n",
        "      <td> 1</td>\n",
        "    </tr>\n",
        "    <tr>\n",
        "      <th>4 </th>\n",
        "      <td>  4</td>\n",
        "      <td> 0</td>\n",
        "      <td> 1</td>\n",
        "      <td> 0.731059</td>\n",
        "      <td> 1</td>\n",
        "    </tr>\n",
        "    <tr>\n",
        "      <th>5 </th>\n",
        "      <td>  5</td>\n",
        "      <td> 1</td>\n",
        "      <td> 0</td>\n",
        "      <td> 0.500000</td>\n",
        "      <td> 1</td>\n",
        "    </tr>\n",
        "    <tr>\n",
        "      <th>6 </th>\n",
        "      <td>  6</td>\n",
        "      <td> 0</td>\n",
        "      <td>-1</td>\n",
        "      <td> 0.268941</td>\n",
        "      <td> 0</td>\n",
        "    </tr>\n",
        "    <tr>\n",
        "      <th>7 </th>\n",
        "      <td>  7</td>\n",
        "      <td> 0</td>\n",
        "      <td>-2</td>\n",
        "      <td> 0.119203</td>\n",
        "      <td> 0</td>\n",
        "    </tr>\n",
        "    <tr>\n",
        "      <th>8 </th>\n",
        "      <td>  8</td>\n",
        "      <td> 0</td>\n",
        "      <td>-3</td>\n",
        "      <td> 0.047426</td>\n",
        "      <td> 0</td>\n",
        "    </tr>\n",
        "    <tr>\n",
        "      <th>9 </th>\n",
        "      <td>  9</td>\n",
        "      <td> 0</td>\n",
        "      <td>-4</td>\n",
        "      <td> 0.017986</td>\n",
        "      <td> 0</td>\n",
        "    </tr>\n",
        "    <tr>\n",
        "      <th>10</th>\n",
        "      <td> 10</td>\n",
        "      <td> 0</td>\n",
        "      <td>-5</td>\n",
        "      <td> 0.006693</td>\n",
        "      <td> 0</td>\n",
        "    </tr>\n",
        "  </tbody>\n",
        "</table>\n",
        "</div>"
       ],
       "metadata": {},
       "output_type": "pyout",
       "prompt_number": 17,
       "text": [
        "     x  y  z   sigmoid  yhat\n",
        "0    0  1  5  0.993307     1\n",
        "1    1  1  4  0.982014     1\n",
        "2    2  1  3  0.952574     1\n",
        "3    3  1  2  0.880797     1\n",
        "4    4  0  1  0.731059     1\n",
        "5    5  1  0  0.500000     1\n",
        "6    6  0 -1  0.268941     0\n",
        "7    7  0 -2  0.119203     0\n",
        "8    8  0 -3  0.047426     0\n",
        "9    9  0 -4  0.017986     0\n",
        "10  10  0 -5  0.006693     0"
       ]
      }
     ],
     "prompt_number": 17
    },
    {
     "cell_type": "markdown",
     "metadata": {},
     "source": [
      "The data shows that we believe y should be 1, yes you will be alive, when X <=5 which is how we have defined it. The chart below shows the predicted y in red and the actual y underneath it in blue. Therefore where you see the blue dots, we predicted y incorrectly. Between 4 and 5 red lights the actual data is unclear like all real life relationships are.\n",
      "\n",
      "In fact, there wasn't a better solution that we could have found in this set up because in the training data there is no clear dividing line based on x around which y is always 1 or 0.\n",
      "\n",
      "Based on the data it appears that if you jump less than 4 red lights you're quite likely to live for another 10 years and if you jump 6 or more you are very likely to not.\n",
      "\n",
      "Although it seems like logistic regression has a hard 'x threshold' level, here at 5, that's only because we used one $x^1$ variable as the predictor. By adding $X^2$, $X^3$ or $X^2X^3$ variables in the regression we could force the y vs x relationship to present more interesting shapes but we would lose the ability to visualise the point intuitively with anything more than 2 dimensions (y, x)."
     ]
    },
    {
     "cell_type": "code",
     "collapsed": false,
     "input": [
      "plt.scatter(data.x, data.y, label='Actual y', c='blue')\n",
      "plt.scatter(data.x, data.yhat, label='Predicted y', c='red')\n",
      "plt.plot(data.sigmoid)\n",
      "plt.plot(np.array([0.5 for x in range(11)]))\n",
      "plt.xlabel('Red Lights Run Per Year')\n",
      "plt.ylabel('Will You Still Be Alive in 10 Years')\n",
      "plt.legend()\n",
      "plt.show()"
     ],
     "language": "python",
     "metadata": {},
     "outputs": [
      {
       "metadata": {},
       "output_type": "display_data",
       "png": "[encoded data removed]",
       "text": [
        "<matplotlib.figure.Figure at 0xd2e2cf8>"
       ]
      }
     ],
     "prompt_number": 18
    },
    {
     "cell_type": "heading",
     "level": 3,
     "metadata": {},
     "source": [
      "So that's what I wanted to say about logistic regression."
     ]
    }
   ],
   "metadata": {}
  }
 ]
}